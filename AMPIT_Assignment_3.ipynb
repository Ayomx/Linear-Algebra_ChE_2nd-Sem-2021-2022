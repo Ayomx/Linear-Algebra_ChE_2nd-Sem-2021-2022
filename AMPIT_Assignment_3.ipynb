{
  "cells": [
    {
      "cell_type": "markdown",
      "metadata": {
        "id": "view-in-github",
        "colab_type": "text"
      },
      "source": [
        "<a href=\"https://colab.research.google.com/github/Ayomx/Linear-Algebra_ChE_2nd-Sem-2021-2022/blob/main/AMPIT_Assignment_3.ipynb\" target=\"_parent\"><img src=\"https://colab.research.google.com/assets/colab-badge.svg\" alt=\"Open In Colab\"/></a>"
      ]
    },
    {
      "cell_type": "markdown",
      "metadata": {
        "id": "0YDNyh8-Kjch"
      },
      "source": [
        "# Linear Algebra for ChE\n",
        "## Assignment 3 : Matrices"
      ]
    },
    {
      "cell_type": "markdown",
      "metadata": {
        "id": "YTqtst06KwOp"
      },
      "source": [
        "### Objectives\n",
        "At the end of this activity you will be able to:\n",
        "1. Understand the concept of matrices and how they relate to linear equations.\n",
        "2. Basic matrix operations are performed.\n",
        "3. Python is a programming language that can be used to program and translate matrix equations and operations.\n"
      ]
    },
    {
      "cell_type": "markdown",
      "metadata": {
        "id": "eHT9RYTjK3Sp"
      },
      "source": [
        "# Discussion"
      ]
    },
    {
      "cell_type": "code",
      "execution_count": 2,
      "metadata": {
        "id": "uQLZ8joVK4jS"
      },
      "outputs": [],
      "source": [
        "import numpy as np\n",
        "import matplotlib.pyplot as plt\n",
        "import scipy.linalg as la\n",
        "%matplotlib inline\n"
      ]
    },
    {
      "cell_type": "markdown",
      "metadata": {
        "id": "bupDDbjZK_R9"
      },
      "source": [
        "## Matrices\n",
        "Matrices are a column-by-row rectangular array of numbers. In statistics, matrix algebra is used to represent data sets. For a simple reason, we use different notation. It's easier to follow the laws of matrix math when you stick to conventions. If you have a list like this in elementary algebra: To accordance with convention, you'd adjust it and represent it in a complex equation type.\n",
        "\n",
        "Let's say for example you have ***A*** and ***B*** as system of equation."
      ]
    },
    {
      "cell_type": "markdown",
      "metadata": {
        "id": "19ftuMl1MKfB"
      },
      "source": [
        "$$\n",
        "A = \\left\\{\n",
        "    \\begin{array}\\\n",
        "        x + y \\\\ \n",
        "        4x - 10y\n",
        "    \\end{array}\n",
        "\\right. \\\\\n",
        "B = \\left\\{\n",
        "    \\begin{array}\\\n",
        "        x+y+z \\\\ \n",
        "        3x -2y -z \\\\\n",
        "        -x + 4y +2z\n",
        "    \\end{array}\n",
        "\\right. \\\\\n",
        "C = \\left\\{\n",
        "    \\begin{array}\\\n",
        "      w-2x+3y-4z \\\\\n",
        "      3w-x-2y+z \\\\\n",
        "      2w-x+3y-2z\n",
        "    \\end{array}\n",
        "\\right.\n",
        "$$"
      ]
    },
    {
      "cell_type": "markdown",
      "metadata": {
        "id": "vdMoTSXuNmq6"
      },
      "source": [
        "We could see that ***A*** is a system of 2 equations with 2 parameters. While ***B*** is a system of 3 equations with 3 parameters. We can represent them as matrices as:"
      ]
    },
    {
      "cell_type": "markdown",
      "metadata": {
        "id": "HeHDDg11N-uM"
      },
      "source": [
        "$$\n",
        "A=\\begin{bmatrix} 1 & 1 \\\\ 4 & {-10}\\end{bmatrix} \\\\\n",
        "B=\\begin{bmatrix} 1 & 1 & 1 \\\\ 3 & -2 & -1 \\\\ -1 & 4 & 2\\end{bmatrix}\\\\\n",
        "C=\\begin{bmatrix} 1 & -2 & 3 & -4 \\\\ 3 & -1 & -2 & 1 \\\\ 2 & -1 & 3 & -2\\end{bmatrix}\n",
        "$$"
      ]
    },
    {
      "cell_type": "markdown",
      "metadata": {
        "id": "KV-1a-jkPWXD"
      },
      "source": [
        "So assuming that you already discussed the fundamental representation of matrices, their types, and operations. We'll proceed in doing them in here in Python."
      ]
    },
    {
      "cell_type": "markdown",
      "metadata": {
        "id": "3wR-XHZoPkLY"
      },
      "source": [
        "## Declaring Matrices"
      ]
    },
    {
      "cell_type": "markdown",
      "metadata": {
        "id": "0pCEPmnzPnIR"
      },
      "source": [
        "The elements or entries of a matrix are the individual items (numbers, symbols, or phrases) that make up the matrix.\n",
        "\n",
        "Two matrices can be added or removed element by element as long as they are the same size (have the same number of rows and columns). The rule for matrix multiplication, on the other hand, is that two matrices can only be multiplied if the first's number of columns equals the second's number of rows. A scalar from the related field can be multiplied element-by-element by any matrix.\n",
        "\n",
        "Row vectors are matrices with a single row, and column vectors are matrices with a single column. A square matrix is a matrix with the same number of rows and columns. A matrix with no rows or columns, known as an empty matrix, is beneficial in particular situations, such as computer algebra applications.\n",
        "\n",
        "Do note that the *size* of a matrix is *i x j.*"
      ]
    },
    {
      "cell_type": "markdown",
      "metadata": {
        "id": "KpbGkYyfQUmD"
      },
      "source": [
        "$$A=\\begin{bmatrix}\n",
        "a_{(0,0)}&a_{(0,1)}&\\dots&a_{(0,j-1)}\\\\\n",
        "a_{(1,0)}&a_{(1,1)}&\\dots&a_{(1,j-1)}\\\\\n",
        "\\vdots&\\vdots&\\ddots&\\vdots&\\\\\n",
        "a_{(i-1,0)}&a_{(i-1,1)}&\\dots&a_{(i-1,j-1)}\n",
        "\\end{bmatrix}\n",
        "$$\n"
      ]
    },
    {
      "cell_type": "markdown",
      "metadata": {
        "id": "Y57KiJMgQVUX"
      },
      "source": [
        "We already gone over some of the types of matrices as vectors but we'll further discuss them in this laboratory activity. Since you already know how to describe vectors using **shape**, **dimensions** and **size** attributes, we'll use them to analyze the matrices."
      ]
    },
    {
      "cell_type": "code",
      "execution_count": 10,
      "metadata": {
        "id": "RlFQEhQlQkCi"
      },
      "outputs": [],
      "source": [
        "## Since we'll keep on describing matrices. Let's make a function.\n",
        "def describe_mat(matrix):\n",
        "    print(f'Matrix:\\n{matrix}\\n\\nShape:\\t{matrix.shape}\\nRank:\\t{matrix.ndim}\\n')\n"
      ]
    },
    {
      "cell_type": "code",
      "execution_count": 11,
      "metadata": {
        "colab": {
          "base_uri": "https://localhost:8080/"
        },
        "id": "37g4PTBnQ2_h",
        "outputId": "e2cc029d-e54e-4fe8-c9f4-f0b82f7bc256"
      },
      "outputs": [
        {
          "output_type": "stream",
          "name": "stdout",
          "text": [
            "Matrix:\n",
            "[[1 9]\n",
            " [5 3]]\n",
            "\n",
            "Shape:\t(2, 2)\n",
            "Rank:\t2\n",
            "\n"
          ]
        }
      ],
      "source": [
        "## Declaring a 2 x 2 matrix\n",
        "A = np.array([\n",
        "    [1, 9],\n",
        "    [5, 3]\n",
        "])\n",
        "describe_mat(A)\n"
      ]
    },
    {
      "cell_type": "code",
      "execution_count": 12,
      "metadata": {
        "colab": {
          "base_uri": "https://localhost:8080/"
        },
        "id": "iw5Vs6AfRuDM",
        "outputId": "52b8c647-1a70-44e4-fa94-9211f83d49a2"
      },
      "outputs": [
        {
          "output_type": "stream",
          "name": "stdout",
          "text": [
            "Matrix:\n",
            "[[4 2 6]\n",
            " [5 3 1]]\n",
            "\n",
            "Shape:\t(2, 3)\n",
            "Rank:\t2\n",
            "\n"
          ]
        }
      ],
      "source": [
        "G = np.array([\n",
        "    [4,2,6],\n",
        "    [5,3,1]\n",
        "])\n",
        "describe_mat(G)"
      ]
    },
    {
      "cell_type": "code",
      "execution_count": 13,
      "metadata": {
        "colab": {
          "base_uri": "https://localhost:8080/"
        },
        "id": "p7AZ00QOSYZw",
        "outputId": "0e23e06d-2d69-4ce6-9b8a-21809c2fd861"
      },
      "outputs": [
        {
          "output_type": "stream",
          "name": "stdout",
          "text": [
            "Matrix:\n",
            "[[5 5]\n",
            " [3 3]\n",
            " [2 2]]\n",
            "\n",
            "Shape:\t(3, 2)\n",
            "Rank:\t2\n",
            "\n"
          ]
        }
      ],
      "source": [
        "## Declaring a 3 x 2 matrix\n",
        "B = np.array([\n",
        "    [5, 5],\n",
        "    [3, 3],\n",
        "    [2, 2]\n",
        "])\n",
        "describe_mat(B)\n"
      ]
    },
    {
      "cell_type": "code",
      "execution_count": 14,
      "metadata": {
        "colab": {
          "base_uri": "https://localhost:8080/"
        },
        "id": "k2QUZC90SqC8",
        "outputId": "681543d5-e8db-4295-9dca-a293e0cf5d1b"
      },
      "outputs": [
        {
          "output_type": "stream",
          "name": "stdout",
          "text": [
            "Matrix:\n",
            "[6 4 1 2]\n",
            "\n",
            "Shape:\t(4,)\n",
            "Rank:\t1\n",
            "\n"
          ]
        }
      ],
      "source": [
        "H = np.array([6,4,1,2])\n",
        "describe_mat(H)\n"
      ]
    },
    {
      "cell_type": "markdown",
      "metadata": {
        "id": "7x5xNvYTStoS"
      },
      "source": [
        "## Categorizing Matrices\n",
        "\n",
        "There are several ways of classifying matrices. Once could be according to their **shape** and another is according to their **element values**. We'll try to go to them."
      ]
    },
    {
      "cell_type": "markdown",
      "metadata": {
        "id": "nuOBwJvlTfbk"
      },
      "source": [
        "### According to Shape\n",
        "\n",
        "#### Row and Column Matrices"
      ]
    },
    {
      "cell_type": "code",
      "execution_count": 15,
      "metadata": {
        "colab": {
          "base_uri": "https://localhost:8080/"
        },
        "id": "IJGaP-ESTwBZ",
        "outputId": "a5bdf8df-4faf-4191-a862-9113446e06d9"
      },
      "outputs": [
        {
          "output_type": "stream",
          "name": "stdout",
          "text": [
            "Matrix:\n",
            "[ 1  3  2 -4]\n",
            "\n",
            "Shape:\t(4,)\n",
            "Rank:\t1\n",
            "\n",
            "Matrix:\n",
            "[[ 1  2  3 -4]]\n",
            "\n",
            "Shape:\t(1, 4)\n",
            "Rank:\t2\n",
            "\n"
          ]
        }
      ],
      "source": [
        "## Declaring a Row Matrix\n",
        "\n",
        "rowmatrix1D = np.array([\n",
        "    1, 3, 2, -4\n",
        "]) ## this is a 1-D Matrix with a shape of (3,), it's not really considered as a row matrix.\n",
        "row_mat_2D = np.array([\n",
        "    [1,2,3, -4]\n",
        "]) ## this is a 2-D Matrix with a shape of (1,3)\n",
        "describe_mat(rowmatrix1D)\n",
        "describe_mat(row_mat_2D)\n"
      ]
    },
    {
      "cell_type": "code",
      "execution_count": 16,
      "metadata": {
        "colab": {
          "base_uri": "https://localhost:8080/"
        },
        "id": "iIyL20vIUknt",
        "outputId": "e90948a2-5f7d-4b1c-8164-ae5c51a00688"
      },
      "outputs": [
        {
          "output_type": "stream",
          "name": "stdout",
          "text": [
            "Matrix:\n",
            "[[4]\n",
            " [6]\n",
            " [8]]\n",
            "\n",
            "Shape:\t(3, 1)\n",
            "Rank:\t2\n",
            "\n"
          ]
        }
      ],
      "source": [
        "## Declaring a Column Matrix\n",
        "\n",
        "col_mat = np.array([\n",
        "    [4],\n",
        "    [6],\n",
        "    [8]\n",
        "]) ## this is a 2-D Matrix with a shape of (3,1)\n",
        "describe_mat(col_mat)\n"
      ]
    },
    {
      "cell_type": "markdown",
      "metadata": {
        "id": "XzR3-JhEU3MZ"
      },
      "source": [
        "#### Square Matrices\n",
        "\n",
        "A square matrix is known as an equal matrix. To put it another way, a square matrix is one in which the number of rows and columns in the matrix are equal."
      ]
    },
    {
      "cell_type": "code",
      "execution_count": 17,
      "metadata": {
        "id": "y7FfP99IU5Er"
      },
      "outputs": [],
      "source": [
        "def describe_mat(matrix):\n",
        "    is_square = True if matrix.shape[0] == matrix.shape[1] else False \n",
        "    print(f'Matrix:\\n{matrix}\\n\\nShape:\\t{matrix.shape}\\nRank:\\t{matrix.ndim}\\nIs Square: {is_square}\\n')\n"
      ]
    },
    {
      "cell_type": "code",
      "execution_count": 18,
      "metadata": {
        "colab": {
          "base_uri": "https://localhost:8080/"
        },
        "id": "ZyMN5DqVVbZT",
        "outputId": "216ea013-b709-49f6-ee94-64e7764f3f4a"
      },
      "outputs": [
        {
          "output_type": "stream",
          "name": "stdout",
          "text": [
            "Matrix:\n",
            "[[4 2 5]\n",
            " [5 2 7]\n",
            " [9 3 7]]\n",
            "\n",
            "Shape:\t(3, 3)\n",
            "Rank:\t2\n",
            "Is Square: True\n",
            "\n",
            "Matrix:\n",
            "[[1 3 5]\n",
            " [2 1 9]]\n",
            "\n",
            "Shape:\t(2, 3)\n",
            "Rank:\t2\n",
            "Is Square: False\n",
            "\n"
          ]
        }
      ],
      "source": [
        "square_mat = np.array([\n",
        "    [4,2,5],\n",
        "    [5,2,7],\n",
        "    [9,3,7]\n",
        "])\n",
        "\n",
        "non_square_mat = np.array([\n",
        "    [1,3,5],\n",
        "    [2,1,9]\n",
        "])\n",
        "describe_mat(square_mat)\n",
        "describe_mat(non_square_mat)\n"
      ]
    },
    {
      "cell_type": "markdown",
      "metadata": {
        "id": "TKiNlcetWKES"
      },
      "source": [
        "### According to Element Values"
      ]
    },
    {
      "cell_type": "markdown",
      "metadata": {
        "id": "CvmGn8RvWMZL"
      },
      "source": [
        "#### Null Matrix\n",
        "\n",
        "A null matrix is a matrix that has no elements. It is always a subspace of any vector or matrix."
      ]
    },
    {
      "cell_type": "code",
      "execution_count": 19,
      "metadata": {
        "id": "JXyG2TZzWRmT"
      },
      "outputs": [],
      "source": [
        "def describe_mat(matrix):\n",
        "    if matrix.size > 0:\n",
        "        is_square = True if matrix.shape[0] == matrix.shape[1] else False \n",
        "        print(f'Matrix:\\n{matrix}\\n\\nShape:\\t{matrix.shape}\\nRank:\\t{matrix.ndim}\\nIs Square: {is_square}\\n')\n",
        "    else:\n",
        "        print('Matrix is Null')\n"
      ]
    },
    {
      "cell_type": "code",
      "execution_count": 20,
      "metadata": {
        "colab": {
          "base_uri": "https://localhost:8080/"
        },
        "id": "lie-hu8MWZRD",
        "outputId": "a26efeb5-be4d-4f22-9067-9852dc5d2e90"
      },
      "outputs": [
        {
          "output_type": "stream",
          "name": "stdout",
          "text": [
            "Matrix is Null\n"
          ]
        }
      ],
      "source": [
        "null_mat = np.array([])\n",
        "describe_mat(null_mat)\n"
      ]
    },
    {
      "cell_type": "markdown",
      "metadata": {
        "id": "PZwaM9gAWo5L"
      },
      "source": [
        "#### Zero Matrix\n",
        "\n",
        "A zero matrix is a matrix of any dimension with all of its element entries being zeros."
      ]
    },
    {
      "cell_type": "code",
      "execution_count": 21,
      "metadata": {
        "colab": {
          "base_uri": "https://localhost:8080/"
        },
        "id": "f7QUG_84WtCy",
        "outputId": "4941296f-2fc9-4486-85d9-eb53f94bbdce"
      },
      "outputs": [
        {
          "output_type": "stream",
          "name": "stdout",
          "text": [
            "Zero Row Matrix: \n",
            "[[0. 0.]]\n",
            "Zero Square Matrix: \n",
            "[[0. 0.]\n",
            " [0. 0.]]\n",
            "Zero Rectangular Matrix: \n",
            "[[0. 0.]\n",
            " [0. 0.]\n",
            " [0. 0.]]\n"
          ]
        }
      ],
      "source": [
        "zero_mat_row = np.zeros((1,2))\n",
        "zero_mat_sqr = np.zeros((2,2))\n",
        "zero_mat_rct = np.zeros((3,2))\n",
        "\n",
        "print(f'Zero Row Matrix: \\n{zero_mat_row}')\n",
        "print(f'Zero Square Matrix: \\n{zero_mat_sqr}')\n",
        "print(f'Zero Rectangular Matrix: \\n{zero_mat_rct}')\n"
      ]
    },
    {
      "cell_type": "markdown",
      "metadata": {
        "id": "47EdvBAJWq6k"
      },
      "source": [
        "#### Ones Matrix\n",
        "\n",
        "A matrix of ones is a matrix in which all of the elements are one."
      ]
    },
    {
      "cell_type": "code",
      "execution_count": 22,
      "metadata": {
        "colab": {
          "base_uri": "https://localhost:8080/"
        },
        "id": "RvbJXwEbXnDz",
        "outputId": "e67b7473-a3fb-4f04-a0df-3dca200738a1"
      },
      "outputs": [
        {
          "output_type": "stream",
          "name": "stdout",
          "text": [
            "Ones Row Matrix: \n",
            "[[1. 1.]]\n",
            "Ones Square Matrix: \n",
            "[[1. 1.]\n",
            " [1. 1.]]\n",
            "Ones Rectangular Matrix: \n",
            "[[1. 1.]\n",
            " [1. 1.]\n",
            " [1. 1.]]\n"
          ]
        }
      ],
      "source": [
        "ones_mat_row = np.ones((1,2))\n",
        "ones_mat_sqr = np.ones((2,2))\n",
        "ones_mat_rct = np.ones((3,2))\n",
        "\n",
        "print(f'Ones Row Matrix: \\n{ones_mat_row}')\n",
        "print(f'Ones Square Matrix: \\n{ones_mat_sqr}')\n",
        "print(f'Ones Rectangular Matrix: \\n{ones_mat_rct}')\n"
      ]
    },
    {
      "cell_type": "markdown",
      "metadata": {
        "id": "xecVwAuYXnUy"
      },
      "source": [
        "#### Diagonal Matrix"
      ]
    },
    {
      "cell_type": "markdown",
      "metadata": {
        "id": "dk9GeY1kYiLR"
      },
      "source": [
        "A diagonal matrix is a square matrix with all elements 0 except those in the diagonal from top left to bottom right."
      ]
    },
    {
      "cell_type": "code",
      "execution_count": 24,
      "metadata": {
        "colab": {
          "base_uri": "https://localhost:8080/"
        },
        "id": "GdwTztVtXvnq",
        "outputId": "5709cad0-1b09-4122-fa12-b7985d1b579b"
      },
      "outputs": [
        {
          "output_type": "execute_result",
          "data": {
            "text/plain": [
              "array([[1, 0, 0],\n",
              "       [0, 2, 0],\n",
              "       [0, 0, 3]])"
            ]
          },
          "metadata": {},
          "execution_count": 24
        }
      ],
      "source": [
        "np.array([\n",
        "    [1,0,0],\n",
        "    [0,2,0],\n",
        "    [0,0,3]\n",
        "])\n"
      ]
    },
    {
      "cell_type": "code",
      "execution_count": 25,
      "metadata": {
        "colab": {
          "base_uri": "https://localhost:8080/"
        },
        "id": "LgR2--GcYIYr",
        "outputId": "9fd10e4e-9aad-4aef-b31f-2c732036002d"
      },
      "outputs": [
        {
          "output_type": "execute_result",
          "data": {
            "text/plain": [
              "array([[1, 0, 0, 0],\n",
              "       [0, 5, 0, 0],\n",
              "       [0, 0, 7, 0],\n",
              "       [0, 0, 0, 9]])"
            ]
          },
          "metadata": {},
          "execution_count": 25
        }
      ],
      "source": [
        "d = np.diag([1,5,7,9])\n",
        "#d.shape[0] == d.shape[1]\n",
        "d"
      ]
    },
    {
      "cell_type": "markdown",
      "metadata": {
        "id": "nTyy6byWYqsz"
      },
      "source": [
        "#### Identity Matrix\n",
        "\n",
        "An identity matrix is a square matrix of any order that has one value on its principal diagonal elements and zero values on the remainder of the matrix components."
      ]
    },
    {
      "cell_type": "code",
      "execution_count": 26,
      "metadata": {
        "colab": {
          "base_uri": "https://localhost:8080/"
        },
        "id": "nB6W8xcyYx2y",
        "outputId": "72743e7d-9282-4c84-d1ed-4655a4f80a4d"
      },
      "outputs": [
        {
          "output_type": "execute_result",
          "data": {
            "text/plain": [
              "array([[1., 0., 0., 0., 0.],\n",
              "       [0., 1., 0., 0., 0.],\n",
              "       [0., 0., 1., 0., 0.],\n",
              "       [0., 0., 0., 1., 0.],\n",
              "       [0., 0., 0., 0., 1.]])"
            ]
          },
          "metadata": {},
          "execution_count": 26
        }
      ],
      "source": [
        "np.eye(5)"
      ]
    },
    {
      "cell_type": "code",
      "execution_count": 27,
      "metadata": {
        "colab": {
          "base_uri": "https://localhost:8080/"
        },
        "id": "_VMHFloHY1l8",
        "outputId": "f3ed3152-2337-4ff5-b6c9-0c4de9e0f66c"
      },
      "outputs": [
        {
          "output_type": "execute_result",
          "data": {
            "text/plain": [
              "array([[1., 0., 0., 0., 0., 0., 0.],\n",
              "       [0., 1., 0., 0., 0., 0., 0.],\n",
              "       [0., 0., 1., 0., 0., 0., 0.],\n",
              "       [0., 0., 0., 1., 0., 0., 0.],\n",
              "       [0., 0., 0., 0., 1., 0., 0.],\n",
              "       [0., 0., 0., 0., 0., 1., 0.],\n",
              "       [0., 0., 0., 0., 0., 0., 1.]])"
            ]
          },
          "metadata": {},
          "execution_count": 27
        }
      ],
      "source": [
        "np.identity(7)"
      ]
    },
    {
      "cell_type": "markdown",
      "metadata": {
        "id": "6yeWGiZRZEdc"
      },
      "source": [
        "#### Upper Triangular Matrix\n",
        "\n",
        "An upper triangular matrix is a square matrix in which all of the elements below the left-right diagonal are 0."
      ]
    },
    {
      "cell_type": "code",
      "execution_count": 28,
      "metadata": {
        "colab": {
          "base_uri": "https://localhost:8080/"
        },
        "id": "BG8FhuxqZOwT",
        "outputId": "ab27f635-6d8c-4e18-b1d2-a13e1043f7a9"
      },
      "outputs": [
        {
          "output_type": "execute_result",
          "data": {
            "text/plain": [
              "array([[ 1,  2,  3,  4],\n",
              "       [ 0,  3,  1, -1],\n",
              "       [ 0,  0,  5,  2],\n",
              "       [ 0,  0,  0,  2]])"
            ]
          },
          "metadata": {},
          "execution_count": 28
        }
      ],
      "source": [
        "np.array([\n",
        "    [1,2,3,4],\n",
        "    [0,3,1,-1],\n",
        "    [0,0,5,2],\n",
        "    [0,0,0,2]\n",
        "])\n"
      ]
    },
    {
      "cell_type": "code",
      "execution_count": 29,
      "metadata": {
        "colab": {
          "base_uri": "https://localhost:8080/"
        },
        "id": "PaUpxPIdZzPr",
        "outputId": "8a31c47e-ddad-4dbc-f9cb-9a798b8407f9"
      },
      "outputs": [
        {
          "output_type": "execute_result",
          "data": {
            "text/plain": [
              "array([[ 2, -3,  4, -5,  6],\n",
              "       [ 0, -3,  4, -5,  6],\n",
              "       [ 0,  0,  4, -5,  6],\n",
              "       [ 0,  0,  0, -5,  6],\n",
              "       [ 0,  0,  0,  0,  6]])"
            ]
          },
          "metadata": {},
          "execution_count": 29
        }
      ],
      "source": [
        "F = np.array([\n",
        "              [2, -3, 4, -5, 6],\n",
        "              [2, -3, 4, -5, 6],\n",
        "              [2, -3, 4, -5, 6],\n",
        "              [2, -3, 4, -5, 6],\n",
        "              [2, -3, 4, -5, 6],\n",
        "])\n",
        "np.triu(F)\n"
      ]
    },
    {
      "cell_type": "markdown",
      "metadata": {
        "id": "ZyIlM3xcZT6j"
      },
      "source": [
        "#### Lower Triangular Matrix\n",
        "\n",
        "A lower triangular matrix is a square matrix with all elements 0 above the left-right diagonal."
      ]
    },
    {
      "cell_type": "code",
      "execution_count": 30,
      "metadata": {
        "colab": {
          "base_uri": "https://localhost:8080/"
        },
        "id": "VzX8q7-JZ89T",
        "outputId": "684fae40-fea6-43e3-c7c0-d3d3f00e439e"
      },
      "outputs": [
        {
          "output_type": "execute_result",
          "data": {
            "text/plain": [
              "array([[ 2,  0,  0,  0,  0],\n",
              "       [ 2, -3,  0,  0,  0],\n",
              "       [ 2, -3,  4,  0,  0],\n",
              "       [ 2, -3,  4, -5,  0],\n",
              "       [ 2, -3,  4, -5,  6]])"
            ]
          },
          "metadata": {},
          "execution_count": 30
        }
      ],
      "source": [
        "np.tril(F)"
      ]
    },
    {
      "cell_type": "code",
      "execution_count": 31,
      "metadata": {
        "colab": {
          "base_uri": "https://localhost:8080/"
        },
        "id": "_ly4vOWuabne",
        "outputId": "ddc288a9-73b2-4461-83ed-e4032a525920"
      },
      "outputs": [
        {
          "output_type": "execute_result",
          "data": {
            "text/plain": [
              "array([[ 1,  0,  0,  0],\n",
              "       [ 5,  3,  0,  0],\n",
              "       [ 1, -4,  5,  0],\n",
              "       [ 2, -3,  9,  2]])"
            ]
          },
          "metadata": {},
          "execution_count": 31
        }
      ],
      "source": [
        "np.array([\n",
        "    [1,0,0,0],\n",
        "    [5,3,0,0],\n",
        "    [1,-4,5,0],\n",
        "    [2,-3,9,2]\n",
        "])\n"
      ]
    },
    {
      "cell_type": "markdown",
      "source": [
        "#Matrix Algebra"
      ],
      "metadata": {
        "id": "BuDOD5jh6zW0"
      }
    },
    {
      "cell_type": "markdown",
      "source": [
        "##Addition\n",
        "\n",
        "If you want to combine two matrices, they must have the same dimensions. In other words, a 2 x 2 matrix can be added to another 2 x 2 matrix, but a 2 x 3 matrix cannot. It's fairly similar to adding matrices. Adding the same numbers in the same place is all that is required."
      ],
      "metadata": {
        "id": "leGXbJ0V61pN"
      }
    },
    {
      "cell_type": "code",
      "source": [
        "A = np.array([\n",
        "    [5,3],\n",
        "    [9,1],\n",
        "    [3,2]\n",
        "])\n",
        "B = np.array([\n",
        "    [1,3],\n",
        "    [0,4],\n",
        "    [1,7]\n",
        "])\n",
        "A+B"
      ],
      "metadata": {
        "colab": {
          "base_uri": "https://localhost:8080/"
        },
        "id": "Nke9cHTh65YH",
        "outputId": "cb16b00b-5cff-4ac6-c2ce-946a1bd20ecd"
      },
      "execution_count": 32,
      "outputs": [
        {
          "output_type": "execute_result",
          "data": {
            "text/plain": [
              "array([[6, 6],\n",
              "       [9, 5],\n",
              "       [4, 9]])"
            ]
          },
          "metadata": {},
          "execution_count": 32
        }
      ]
    },
    {
      "cell_type": "code",
      "source": [
        "2+A ##Broadcasting\n",
        "# 2*np.ones(A.shape)+A"
      ],
      "metadata": {
        "colab": {
          "base_uri": "https://localhost:8080/"
        },
        "id": "B7JrUsNa7RG7",
        "outputId": "fcb03e50-2987-4c09-f8a7-fe5eb6428e6f"
      },
      "execution_count": 33,
      "outputs": [
        {
          "output_type": "execute_result",
          "data": {
            "text/plain": [
              "array([[ 7,  5],\n",
              "       [11,  3],\n",
              "       [ 5,  4]])"
            ]
          },
          "metadata": {},
          "execution_count": 33
        }
      ]
    },
    {
      "cell_type": "markdown",
      "source": [
        "##Subtraction"
      ],
      "metadata": {
        "id": "PdoTE1Cf7XLR"
      }
    },
    {
      "cell_type": "code",
      "source": [
        "A-B"
      ],
      "metadata": {
        "colab": {
          "base_uri": "https://localhost:8080/"
        },
        "id": "tt9Cbx_c7Zjg",
        "outputId": "2ef99a50-0f7a-47d8-dc51-d7dba39104a9"
      },
      "execution_count": 34,
      "outputs": [
        {
          "output_type": "execute_result",
          "data": {
            "text/plain": [
              "array([[ 4,  0],\n",
              "       [ 9, -3],\n",
              "       [ 2, -5]])"
            ]
          },
          "metadata": {},
          "execution_count": 34
        }
      ]
    },
    {
      "cell_type": "code",
      "source": [
        "3-B == 3*np.ones(B.shape)-B"
      ],
      "metadata": {
        "colab": {
          "base_uri": "https://localhost:8080/"
        },
        "id": "0COTDvIX7dG5",
        "outputId": "46565d48-83c8-4b4b-9e9e-a1ce0ba26334"
      },
      "execution_count": 35,
      "outputs": [
        {
          "output_type": "execute_result",
          "data": {
            "text/plain": [
              "array([[ True,  True],\n",
              "       [ True,  True],\n",
              "       [ True,  True]])"
            ]
          },
          "metadata": {},
          "execution_count": 35
        }
      ]
    },
    {
      "cell_type": "markdown",
      "metadata": {
        "id": "UUyWZF-GjSSE"
      },
      "source": [
        "##Element-wise Multiplication"
      ]
    },
    {
      "cell_type": "code",
      "execution_count": 36,
      "metadata": {
        "colab": {
          "base_uri": "https://localhost:8080/"
        },
        "id": "Ewfc6jvyj3ub",
        "outputId": "83db59d0-1479-4cd1-ee2f-437f17e8fa6c"
      },
      "outputs": [
        {
          "output_type": "execute_result",
          "data": {
            "text/plain": [
              "array([[ 5,  9],\n",
              "       [ 0,  4],\n",
              "       [ 3, 14]])"
            ]
          },
          "metadata": {},
          "execution_count": 36
        }
      ],
      "source": [
        "A*B\n",
        "np.multiply(A,B)"
      ]
    },
    {
      "cell_type": "code",
      "execution_count": 37,
      "metadata": {
        "id": "DYX1p12zjVEz",
        "colab": {
          "base_uri": "https://localhost:8080/"
        },
        "outputId": "5245c906-1eaf-452f-fef0-978964f1e903"
      },
      "outputs": [
        {
          "output_type": "execute_result",
          "data": {
            "text/plain": [
              "array([[10,  6],\n",
              "       [18,  2],\n",
              "       [ 6,  4]])"
            ]
          },
          "metadata": {},
          "execution_count": 37
        }
      ],
      "source": [
        "2*A"
      ]
    },
    {
      "cell_type": "code",
      "execution_count": 38,
      "metadata": {
        "colab": {
          "base_uri": "https://localhost:8080/",
          "height": 165
        },
        "id": "ziTT9OkavziJ",
        "outputId": "ed976dd3-b4aa-4bb2-c345-8303f1c00e4f"
      },
      "outputs": [
        {
          "output_type": "error",
          "ename": "ValueError",
          "evalue": "ignored",
          "traceback": [
            "\u001b[0;31m---------------------------------------------------------------------------\u001b[0m",
            "\u001b[0;31mValueError\u001b[0m                                Traceback (most recent call last)",
            "\u001b[0;32m<ipython-input-38-5016aafd2858>\u001b[0m in \u001b[0;36m<module>\u001b[0;34m()\u001b[0m\n\u001b[0;32m----> 1\u001b[0;31m \u001b[0mA\u001b[0m\u001b[0;34m@\u001b[0m\u001b[0mB\u001b[0m\u001b[0;34m\u001b[0m\u001b[0;34m\u001b[0m\u001b[0m\n\u001b[0m",
            "\u001b[0;31mValueError\u001b[0m: matmul: Input operand 1 has a mismatch in its core dimension 0, with gufunc signature (n?,k),(k,m?)->(n?,m?) (size 3 is different from 2)"
          ]
        }
      ],
      "source": [
        "A@B"
      ]
    },
    {
      "cell_type": "markdown",
      "source": [
        "#Activity"
      ],
      "metadata": {
        "id": "qni8dHvC75DQ"
      }
    },
    {
      "cell_type": "markdown",
      "source": [
        "##Task 1\n",
        "\n",
        "Create a function named mat_desc() that thoroughly describes a matrix, it should:\n",
        "\n",
        "*   Displays the shape, size, and rank of the matrix.\n",
        "*   Displays whether the matrix is square or non-square.\n",
        "*   Displays whether the matrix is an empty matrix.\n",
        "*   Displays if the matrix is an identity, ones, or zeros matrix.\n",
        "\n",
        "Use 5 sample matrices in which their shapes are not lower than **(3, 3)**. In your methodology, create a flowchart discuss the functions and methods you have done. Present your results in the results section showing the description of each matrix you have declared."
      ],
      "metadata": {
        "id": "Rt_eKVTV_K89"
      }
    },
    {
      "cell_type": "code",
      "source": [
        "## Function area and matrix declarations\n",
        "def mat_desc(mat):\n",
        "    square = False\n",
        "    iden = np.identity(mat.shape[0])\n",
        "    one = np.ones((mat.shape[0], mat.shape[1]))\n",
        "    zero = np.zeros((mat.shape[0], mat.shape[1]))\n",
        "    print(np.array)\n",
        "    print(\"Shape:\", mat.shape)\n",
        "    print(\"Size:\", mat.size)\n",
        "    print(\"Rank:\", np.linalg.matrix_rank(mat))\n",
        "    if(mat.shape[0] == mat.shape[1]):\n",
        "        square = True\n",
        "        print(\"This matrix is square\")\n",
        "    else:\n",
        "        print(\"This matrix is non-square\")\n",
        "    if(mat.shape[0] == 0 and mat.shape[1] == 0):\n",
        "        print(\"This matrix is empty\")\n",
        "    else:\n",
        "        print(\"This matrix is not empty\")\n",
        "    if(square and (iden == mat).all()):\n",
        "        print(\"This is an identity matrix\")\n",
        "    elif((one == mat).all()):\n",
        "        print(\"This is ones matrix\")\n",
        "    elif((zero == mat).all()):\n",
        "        print(\"This is zeros matrix\")\n",
        "    else:\n",
        "        print(\"This is neither an identity, nor ones, nor zeros matrix\")"
      ],
      "metadata": {
        "id": "9OViieuU_kaH"
      },
      "execution_count": 39,
      "outputs": []
    },
    {
      "cell_type": "code",
      "source": [
        "## Test Areas\n",
        "A = np.array([\n",
        "    [8,2,1],\n",
        "    [5,8,2],\n",
        "    [3,4,1]\n",
        "])\n",
        "mat_desc(A)"
      ],
      "metadata": {
        "colab": {
          "base_uri": "https://localhost:8080/"
        },
        "id": "oPURhVXJE5AU",
        "outputId": "517f93bf-3d24-45b0-f585-1376bee31b00"
      },
      "execution_count": 40,
      "outputs": [
        {
          "output_type": "stream",
          "name": "stdout",
          "text": [
            "<built-in function array>\n",
            "Shape: (3, 3)\n",
            "Size: 9\n",
            "Rank: 3\n",
            "This matrix is square\n",
            "This matrix is not empty\n",
            "This is neither an identity, nor ones, nor zeros matrix\n"
          ]
        }
      ]
    },
    {
      "cell_type": "code",
      "source": [
        "B = np.array([\n",
        "    [0,0,0],\n",
        "    [0,0,0],\n",
        "    [0,0,0]\n",
        "])\n",
        "mat_desc(B)"
      ],
      "metadata": {
        "colab": {
          "base_uri": "https://localhost:8080/"
        },
        "id": "w2KleKGyTu51",
        "outputId": "d5bcb14c-6eb2-49ef-f2cb-f241ba1e2a39"
      },
      "execution_count": 41,
      "outputs": [
        {
          "output_type": "stream",
          "name": "stdout",
          "text": [
            "<built-in function array>\n",
            "Shape: (3, 3)\n",
            "Size: 9\n",
            "Rank: 0\n",
            "This matrix is square\n",
            "This matrix is not empty\n",
            "This is zeros matrix\n"
          ]
        }
      ]
    },
    {
      "cell_type": "code",
      "source": [
        "C = np.array([\n",
        "    [1,0,0],\n",
        "    [0,1,0],\n",
        "    [0,0,1]\n",
        "])\n",
        "mat_desc(C)"
      ],
      "metadata": {
        "colab": {
          "base_uri": "https://localhost:8080/"
        },
        "id": "tcjcxnMST0dx",
        "outputId": "8dd52af4-1b44-4c37-e2a2-ae4b4376adbe"
      },
      "execution_count": 42,
      "outputs": [
        {
          "output_type": "stream",
          "name": "stdout",
          "text": [
            "<built-in function array>\n",
            "Shape: (3, 3)\n",
            "Size: 9\n",
            "Rank: 3\n",
            "This matrix is square\n",
            "This matrix is not empty\n",
            "This is an identity matrix\n"
          ]
        }
      ]
    },
    {
      "cell_type": "code",
      "source": [
        "D = np.array([\n",
        "    [1,1,1],\n",
        "    [1,1,1],\n",
        "    [1,1,1]\n",
        "])\n",
        "mat_desc(D)"
      ],
      "metadata": {
        "colab": {
          "base_uri": "https://localhost:8080/"
        },
        "id": "_BjbA07fT3MC",
        "outputId": "797a4a9c-a9c5-4640-a346-b443659e425d"
      },
      "execution_count": 43,
      "outputs": [
        {
          "output_type": "stream",
          "name": "stdout",
          "text": [
            "<built-in function array>\n",
            "Shape: (3, 3)\n",
            "Size: 9\n",
            "Rank: 1\n",
            "This matrix is square\n",
            "This matrix is not empty\n",
            "This is ones matrix\n"
          ]
        }
      ]
    },
    {
      "cell_type": "code",
      "source": [
        "E = np.array([\n",
        "    [1,1],\n",
        "    [1,1],\n",
        "    [1,1]\n",
        "])\n",
        "mat_desc(E)"
      ],
      "metadata": {
        "colab": {
          "base_uri": "https://localhost:8080/"
        },
        "id": "3-hFGpgMT50Z",
        "outputId": "bc67e9a0-2197-486e-95c3-4929211a359c"
      },
      "execution_count": 44,
      "outputs": [
        {
          "output_type": "stream",
          "name": "stdout",
          "text": [
            "<built-in function array>\n",
            "Shape: (3, 2)\n",
            "Size: 6\n",
            "Rank: 1\n",
            "This matrix is non-square\n",
            "This matrix is not empty\n",
            "This is ones matrix\n"
          ]
        }
      ]
    },
    {
      "cell_type": "code",
      "source": [
        "X = int(input(\"Number of rows for 1st Matrix: \"))\n",
        "Y = int(input(\"Number of columns for 1st Matrix: \")) \n",
        "print(\"Entries per row (separated by space): \")  \n",
        "entries_1 = list(map(int, input().split()))\n",
        " \n",
        "num_entries_1 = len(entries_1)\n",
        "area_dim_1 = X*Y\n",
        "\n",
        "def describe_mat(matrix):\n",
        "  is_square = True if matrix.shape[0] == matrix.shape[1] else False\n",
        "  print(f'\\nMatrix:\\n{matrix}\\n\\nShape:\\t{matrix.shape}\\nRank:\\t{matrix.ndim}\\nIs Square: {is_square}\\n\\n')\n",
        "\n",
        "##validation if the number of entry is not inclined in the product of row and column.\n",
        "if (area_dim_1 != num_entries_1):\n",
        "  print(\"Incorrect entry of data. You can only have as many entries as the sum of the number of rows and columns in your data.\")\n",
        "  raise ValueError(\"Error! Please make sure you enter the correct number of series in your submission.\")\n",
        "\n",
        "matrix_1 = np.array(entries_1).reshape(X, Y)\n",
        "\n",
        "describe_mat (matrix_1)\n",
        "##\n",
        "A = int(input(\"Number of rows for 2nd Matrix: \"))\n",
        "B = int(input(\"Number of colums for 2nd Matrix: \"))\n",
        "print(\"Entries per row (separated by space): \")\n",
        "entries_2 = list(map(int, input().split()))\n",
        "\n",
        "num_entries_2 = len(entries_2)\n",
        "area_dim_2 = A*B\n",
        "\n",
        "##validation if the number of entry is not inclined in the product of row and column.\n",
        "if (area_dim_2 != num_entries_2):\n",
        "  print(\"Incorrect entry of data. You can only have as many entries as the sum of the number of rows and columns in your data.\")\n",
        "  raise ValueError(\"Error! Please make sure you enter the correct number of series in your submission.\")\n",
        "\n",
        "matrix_2 = np.array(entries_2).reshape(A, B)\n",
        "describe_mat (matrix_2)\n",
        "##\n",
        "dec_operation = input (\"Enter Your Desired Operation (+,-,*,/) : \")\n",
        "##\n",
        "if dec_operation == '+' or dec_operation.lower() == \"addition\": \n",
        "  Matrix_sum = matrix_1 + matrix_2\n",
        "  print(\"The Sum of the two Matrices are: \\n{}\".format(Matrix_sum))\n",
        "##SUBTRACTION##\n",
        "if dec_operation == '-' or dec_operation.lower() == \"subtraction\": \n",
        "  Matrix_diff = matrix_1 - matrix_2\n",
        "  print(\"The Difference of the two Matrices are: \\n{}\".format(Matrix_diff))\n",
        "##MULTIPLICATION##\n",
        "if dec_operation == '*' or dec_operation.lower() == \"multiplication\": \n",
        "  Matrix_prod = matrix_1 * matrix_2\n",
        "  print(\"The Product of the two Matrices are: \\n{}\".format(Matrix_prod))\n",
        "##DIVISION##\n",
        "if dec_operation == '/' or dec_operation.lower() == \"division\": \n",
        "  Matrix_quo = matrix_1 / matrix_2\n",
        "  print(\"The Quotient of the two Matrices are: \\n{}\".format(Matrix_quo))\n",
        "##"
      ],
      "metadata": {
        "colab": {
          "base_uri": "https://localhost:8080/"
        },
        "id": "dx1NgJnofKTk",
        "outputId": "a82ecc27-2f96-47ac-bda5-544d4117c0d7"
      },
      "execution_count": 50,
      "outputs": [
        {
          "output_type": "stream",
          "name": "stdout",
          "text": [
            "Number of rows for 1st Matrix: 2\n",
            "Number of columns for 1st Matrix: 2\n",
            "Entries per row (separated by space): \n",
            "1 2 3 4\n",
            "\n",
            "Matrix:\n",
            "[[1 2]\n",
            " [3 4]]\n",
            "\n",
            "Shape:\t(2, 2)\n",
            "Rank:\t2\n",
            "Is Square: True\n",
            "\n",
            "\n",
            "Number of rows for 2nd Matrix: 2\n",
            "Number of colums for 2nd Matrix: 2\n",
            "Entries per row (separated by space): \n",
            "4 5 6 7\n",
            "\n",
            "Matrix:\n",
            "[[4 5]\n",
            " [6 7]]\n",
            "\n",
            "Shape:\t(2, 2)\n",
            "Rank:\t2\n",
            "Is Square: True\n",
            "\n",
            "\n",
            "Enter Your Desired Operation (+,-,*,/) : +\n",
            "The Sum of the two Matrices are: \n",
            "[[ 5  7]\n",
            " [ 9 11]]\n"
          ]
        }
      ]
    },
    {
      "cell_type": "markdown",
      "source": [
        "#References:\n",
        "\n",
        "https://www.statisticshowto.com/matrices-and-matrix-algebra/\n",
        "\n",
        "https://courses.lumenlearning.com/boundless-algebra/chapter/introduction-to-matrices/#:~:text=matrix%3A%20A%20rectangular%20arrangement%20of,representing%20graphs%20in%20graph%20theory.\n",
        "\n",
        "https://www.math-only-math.com/square-matrix.html\n",
        "\n",
        "https://www.studypug.com/algebra-help/zero-matrix\n",
        "\n",
        "https://www.studypug.com/algebra-help/identity-matrix\n",
        "\n",
        "https://www.definitions.net/definition/Matrix+of+ones\n"
      ],
      "metadata": {
        "id": "QXjSr7YZY03w"
      }
    }
  ],
  "metadata": {
    "colab": {
      "name": "AMPIT: Assignment 3",
      "provenance": [],
      "authorship_tag": "ABX9TyMfBgTAJ7dMQoppTnyzJZas",
      "include_colab_link": true
    },
    "kernelspec": {
      "display_name": "Python 3",
      "name": "python3"
    },
    "language_info": {
      "name": "python"
    }
  },
  "nbformat": 4,
  "nbformat_minor": 0
}