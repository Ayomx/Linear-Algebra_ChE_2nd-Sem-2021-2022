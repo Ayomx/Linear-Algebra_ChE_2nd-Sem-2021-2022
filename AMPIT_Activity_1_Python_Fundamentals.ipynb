{
  "nbformat": 4,
  "nbformat_minor": 0,
  "metadata": {
    "colab": {
      "name": "AMPIT: Activity 1 - Python Fundamentals",
      "provenance": [],
      "authorship_tag": "ABX9TyMcooWhue62Ph1Bj4dSmjAJ",
      "include_colab_link": true
    },
    "kernelspec": {
      "name": "python3",
      "display_name": "Python 3"
    },
    "language_info": {
      "name": "python"
    }
  },
  "cells": [
    {
      "cell_type": "markdown",
      "metadata": {
        "id": "view-in-github",
        "colab_type": "text"
      },
      "source": [
        "<a href=\"https://colab.research.google.com/github/Ayomx/Linear-Algebra_ChE_2nd-Sem-2021-2022/blob/main/AMPIT_Activity_1_Python_Fundamentals.ipynb\" target=\"_parent\"><img src=\"https://colab.research.google.com/assets/colab-badge.svg\" alt=\"Open In Colab\"/></a>"
      ]
    },
    {
      "cell_type": "markdown",
      "source": [
        "# Welcome to Python Fundamentals\n",
        "In this module, we are going to establish or review our skills in Python programming. In this notebook we are going to cover:\n",
        "* Variables and Data Types \n",
        "* Operations\n",
        "* Input and Output Operations\n",
        "* Logic Control\n",
        "* Iterables\n",
        "* Functions"
      ],
      "metadata": {
        "id": "G6L-dRAX_xJh"
      }
    },
    {
      "cell_type": "markdown",
      "source": [
        "## Variable and Data Types\n",
        "#### Variables, according to the Beginners Book, are used to store data and take up memory space depending on the sort of value we assign to them. Meanwhile, the classification or categorizing of data elements is known as data types. It denotes the kind of value that specifies which operations can be performed on a given set of data (Geek for Geeks, 2021)."
      ],
      "metadata": {
        "id": "xXUHGvCPAL_e"
      }
    },
    {
      "cell_type": "code",
      "source": [
        "x = 5\n",
        "a,b = 0, -1\n",
        "x"
      ],
      "metadata": {
        "colab": {
          "base_uri": "https://localhost:8080/"
        },
        "id": "1edgX8dkASt-",
        "outputId": "bcf9a126-1d4c-4888-a1f7-3ec0ee3ec0c7"
      },
      "execution_count": null,
      "outputs": [
        {
          "output_type": "execute_result",
          "data": {
            "text/plain": [
              "5"
            ]
          },
          "metadata": {},
          "execution_count": 2
        }
      ]
    },
    {
      "cell_type": "code",
      "source": [
        "type(x)"
      ],
      "metadata": {
        "colab": {
          "base_uri": "https://localhost:8080/"
        },
        "id": "BgnU_ghwBVMi",
        "outputId": "c7fe49b3-2dab-4e3c-860d-454a5e0505c4"
      },
      "execution_count": null,
      "outputs": [
        {
          "output_type": "execute_result",
          "data": {
            "text/plain": [
              "int"
            ]
          },
          "metadata": {},
          "execution_count": 5
        }
      ]
    },
    {
      "cell_type": "code",
      "source": [
        "y = 12.0\n",
        "type(y)"
      ],
      "metadata": {
        "colab": {
          "base_uri": "https://localhost:8080/"
        },
        "id": "88kNszoXBkn9",
        "outputId": "18711618-3240-46d5-821d-7310fdf3a1ad"
      },
      "execution_count": null,
      "outputs": [
        {
          "output_type": "execute_result",
          "data": {
            "text/plain": [
              "float"
            ]
          },
          "metadata": {},
          "execution_count": 7
        }
      ]
    },
    {
      "cell_type": "code",
      "source": [
        "x = float(x)\n",
        "type(x)"
      ],
      "metadata": {
        "colab": {
          "base_uri": "https://localhost:8080/"
        },
        "id": "r60lhypaBxft",
        "outputId": "8f70a6c5-d967-484d-8755-ecc40a033574"
      },
      "execution_count": null,
      "outputs": [
        {
          "output_type": "execute_result",
          "data": {
            "text/plain": [
              "float"
            ]
          },
          "metadata": {},
          "execution_count": 8
        }
      ]
    },
    {
      "cell_type": "code",
      "source": [
        "s,t,u = \"0\", '1', 'one'\n",
        "type(s)"
      ],
      "metadata": {
        "colab": {
          "base_uri": "https://localhost:8080/"
        },
        "id": "8pPI52xxCDeF",
        "outputId": "515af4dd-5e53-4cd6-d721-4648d88c4aa3"
      },
      "execution_count": null,
      "outputs": [
        {
          "output_type": "execute_result",
          "data": {
            "text/plain": [
              "str"
            ]
          },
          "metadata": {},
          "execution_count": 9
        }
      ]
    },
    {
      "cell_type": "code",
      "source": [
        "s_int = int(s)\n",
        "s_int"
      ],
      "metadata": {
        "colab": {
          "base_uri": "https://localhost:8080/"
        },
        "id": "HLoJrzG0Ckfe",
        "outputId": "3fbdd585-a4f7-4ab9-dc17-31a53d79aeb5"
      },
      "execution_count": null,
      "outputs": [
        {
          "output_type": "execute_result",
          "data": {
            "text/plain": [
              "0"
            ]
          },
          "metadata": {},
          "execution_count": 10
        }
      ]
    },
    {
      "cell_type": "markdown",
      "source": [
        "##Operations\n",
        "In Python, operators are special symbols that perform arithmetic or logical computations. The operand is the value on which the operator operates. There are different types of operation, and those are:"
      ],
      "metadata": {
        "id": "DU_WEsH_Cy0O"
      }
    },
    {
      "cell_type": "markdown",
      "source": [
        "###Arithmetic\n",
        "\n",
        "#### Addition, subtraction, multiplication, and other mathematical operations are performed using arithmetic operators."
      ],
      "metadata": {
        "id": "v93FtIGKC6sx"
      }
    },
    {
      "cell_type": "code",
      "source": [
        "a,b,c,d = 2.0, -0.5, 0, -32"
      ],
      "metadata": {
        "id": "qSbQZg_dC9ur"
      },
      "execution_count": null,
      "outputs": []
    },
    {
      "cell_type": "code",
      "source": [
        "### Addition\n",
        "S = a+b\n",
        "S"
      ],
      "metadata": {
        "colab": {
          "base_uri": "https://localhost:8080/"
        },
        "id": "SllHmqlxDP_m",
        "outputId": "4f458eaa-540e-494c-f5c1-521092fe861a"
      },
      "execution_count": null,
      "outputs": [
        {
          "output_type": "execute_result",
          "data": {
            "text/plain": [
              "1.5"
            ]
          },
          "metadata": {},
          "execution_count": 13
        }
      ]
    },
    {
      "cell_type": "code",
      "source": [
        "### Subtraction\n",
        "D = b-d\n",
        "D"
      ],
      "metadata": {
        "colab": {
          "base_uri": "https://localhost:8080/"
        },
        "id": "OjS2l_QaEgbB",
        "outputId": "2a540439-9cad-479e-fdbd-eb181e716ca6"
      },
      "execution_count": null,
      "outputs": [
        {
          "output_type": "execute_result",
          "data": {
            "text/plain": [
              "31.5"
            ]
          },
          "metadata": {},
          "execution_count": 14
        }
      ]
    },
    {
      "cell_type": "code",
      "source": [
        "### Multiplication\n",
        "M = a*d\n",
        "M"
      ],
      "metadata": {
        "colab": {
          "base_uri": "https://localhost:8080/"
        },
        "id": "N07o3QOLfIUv",
        "outputId": "1423a3ed-1046-4e2a-d217-18cc0225cd7d"
      },
      "execution_count": null,
      "outputs": [
        {
          "output_type": "execute_result",
          "data": {
            "text/plain": [
              "-64.0"
            ]
          },
          "metadata": {},
          "execution_count": 15
        }
      ]
    },
    {
      "cell_type": "code",
      "source": [
        "### Division\n",
        "Q = d/a\n",
        "Q"
      ],
      "metadata": {
        "colab": {
          "base_uri": "https://localhost:8080/"
        },
        "id": "LAgB6cFkfajJ",
        "outputId": "0cd6f9c3-1df5-4134-f2a4-018e9b6e8880"
      },
      "execution_count": null,
      "outputs": [
        {
          "output_type": "execute_result",
          "data": {
            "text/plain": [
              "-16.0"
            ]
          },
          "metadata": {},
          "execution_count": 16
        }
      ]
    },
    {
      "cell_type": "code",
      "source": [
        "### Floor Division\n",
        "Fq = a//b\n",
        "Fq"
      ],
      "metadata": {
        "colab": {
          "base_uri": "https://localhost:8080/"
        },
        "id": "OA4OXK_kEsWX",
        "outputId": "4168c219-73fb-4c4f-f6e6-b4f81739785a"
      },
      "execution_count": null,
      "outputs": [
        {
          "output_type": "execute_result",
          "data": {
            "text/plain": [
              "-4.0"
            ]
          },
          "metadata": {},
          "execution_count": 17
        }
      ]
    },
    {
      "cell_type": "code",
      "source": [
        "### Exponentiation\n",
        "E = a**b\n",
        "E"
      ],
      "metadata": {
        "colab": {
          "base_uri": "https://localhost:8080/"
        },
        "id": "Fdf0z5DMFUtZ",
        "outputId": "d503e8e6-c7bf-4fb7-f8f6-3d301ee1a06d"
      },
      "execution_count": null,
      "outputs": [
        {
          "output_type": "execute_result",
          "data": {
            "text/plain": [
              "0.7071067811865476"
            ]
          },
          "metadata": {},
          "execution_count": 18
        }
      ]
    },
    {
      "cell_type": "code",
      "source": [
        "### Modulo\n",
        "mod = d%a\n",
        "mod"
      ],
      "metadata": {
        "colab": {
          "base_uri": "https://localhost:8080/"
        },
        "id": "I1prFmLiIjZX",
        "outputId": "ed471349-ccbf-45d5-c80e-e74d6930c5fc"
      },
      "execution_count": null,
      "outputs": [
        {
          "output_type": "execute_result",
          "data": {
            "text/plain": [
              "0.0"
            ]
          },
          "metadata": {},
          "execution_count": 19
        }
      ]
    },
    {
      "cell_type": "markdown",
      "source": [
        "###Assignment Operations\n",
        "#### To assign values to variables in Python, assignment operators are employed."
      ],
      "metadata": {
        "id": "1JLjr-hpJFS2"
      }
    },
    {
      "cell_type": "code",
      "source": [
        "G, H, J, K = 0, 100, 2, 2"
      ],
      "metadata": {
        "id": "ZEkK1bAIJkaP"
      },
      "execution_count": null,
      "outputs": []
    },
    {
      "cell_type": "code",
      "source": [
        "G += a\n",
        "G"
      ],
      "metadata": {
        "colab": {
          "base_uri": "https://localhost:8080/"
        },
        "id": "uZl_QNrGJ-1W",
        "outputId": "de22c0f8-8788-449d-bd58-44ce288817df"
      },
      "execution_count": null,
      "outputs": [
        {
          "output_type": "execute_result",
          "data": {
            "text/plain": [
              "2.0"
            ]
          },
          "metadata": {},
          "execution_count": 21
        }
      ]
    },
    {
      "cell_type": "code",
      "source": [
        "H -= d\n",
        "H"
      ],
      "metadata": {
        "colab": {
          "base_uri": "https://localhost:8080/"
        },
        "id": "RYOeLqPTKHPf",
        "outputId": "0e38ca34-e7a8-4382-faed-36cc392d2084"
      },
      "execution_count": null,
      "outputs": [
        {
          "output_type": "execute_result",
          "data": {
            "text/plain": [
              "132"
            ]
          },
          "metadata": {},
          "execution_count": 22
        }
      ]
    },
    {
      "cell_type": "code",
      "source": [
        "J *= 2\n",
        "J"
      ],
      "metadata": {
        "colab": {
          "base_uri": "https://localhost:8080/"
        },
        "id": "r6bbWwEUKzvl",
        "outputId": "7ab566cd-1d27-4490-f025-00090da1e3ac"
      },
      "execution_count": null,
      "outputs": [
        {
          "output_type": "execute_result",
          "data": {
            "text/plain": [
              "4"
            ]
          },
          "metadata": {},
          "execution_count": 23
        }
      ]
    },
    {
      "cell_type": "code",
      "source": [
        "K **= 3\n",
        "K"
      ],
      "metadata": {
        "colab": {
          "base_uri": "https://localhost:8080/"
        },
        "id": "iIW4C4ikLJLA",
        "outputId": "05c62db4-e3b1-4718-cc44-d7d57b755eba"
      },
      "execution_count": null,
      "outputs": [
        {
          "output_type": "execute_result",
          "data": {
            "text/plain": [
              "8"
            ]
          },
          "metadata": {},
          "execution_count": 24
        }
      ]
    },
    {
      "cell_type": "markdown",
      "source": [
        "###Comparators\n",
        "\n",
        "#### In this part, values are compared using comparison operators. Depending on the criteria, it returns true or false."
      ],
      "metadata": {
        "id": "5mAllG0KLVAN"
      }
    },
    {
      "cell_type": "code",
      "source": [
        "res_1, res_2, res_3 = 1, 2.0, \"1\"\n",
        "true_val = 1.0"
      ],
      "metadata": {
        "id": "7tjLuL6nLXGG"
      },
      "execution_count": null,
      "outputs": []
    },
    {
      "cell_type": "code",
      "source": [
        "## Equality\n",
        "res_1 == true_val"
      ],
      "metadata": {
        "colab": {
          "base_uri": "https://localhost:8080/"
        },
        "id": "ZdmnWwUyLhyN",
        "outputId": "12c1d95a-1474-46a6-cee2-cd59ed8ac2f6"
      },
      "execution_count": null,
      "outputs": [
        {
          "output_type": "execute_result",
          "data": {
            "text/plain": [
              "True"
            ]
          },
          "metadata": {},
          "execution_count": 26
        }
      ]
    },
    {
      "cell_type": "code",
      "source": [
        "##Non-equality\n",
        "res_2 != true_val"
      ],
      "metadata": {
        "colab": {
          "base_uri": "https://localhost:8080/"
        },
        "id": "-C94YUrrLqcP",
        "outputId": "7a3d9593-f549-42c3-ea28-104721db3c80"
      },
      "execution_count": null,
      "outputs": [
        {
          "output_type": "execute_result",
          "data": {
            "text/plain": [
              "True"
            ]
          },
          "metadata": {},
          "execution_count": 27
        }
      ]
    },
    {
      "cell_type": "code",
      "source": [
        "## Innequality\n",
        "t1 = res_1 > res_2\n",
        "t2 = res_1 < res_2/2\n",
        "t3 = res_1 >= res_2/2\n",
        "t4 = res_1 <= res_2\n",
        "t4"
      ],
      "metadata": {
        "colab": {
          "base_uri": "https://localhost:8080/"
        },
        "id": "ZwHmRWVYLzjn",
        "outputId": "18fe7ad4-a71e-4f05-caaa-e66fc8931417"
      },
      "execution_count": null,
      "outputs": [
        {
          "output_type": "execute_result",
          "data": {
            "text/plain": [
              "True"
            ]
          },
          "metadata": {},
          "execution_count": 28
        }
      ]
    },
    {
      "cell_type": "markdown",
      "source": [
        "###Logical\n",
        "\n",
        "#### This type of operation is the same comparators, but And, or, and not are examples of logical operators."
      ],
      "metadata": {
        "id": "9P94OiSnMSzE"
      }
    },
    {
      "cell_type": "code",
      "source": [
        "res_1 == true_val"
      ],
      "metadata": {
        "colab": {
          "base_uri": "https://localhost:8080/"
        },
        "id": "VfEbeZzxMU8t",
        "outputId": "e6002eac-6b0e-4f0c-85ae-81755504ecd0"
      },
      "execution_count": null,
      "outputs": [
        {
          "output_type": "execute_result",
          "data": {
            "text/plain": [
              "True"
            ]
          },
          "metadata": {},
          "execution_count": 29
        }
      ]
    },
    {
      "cell_type": "code",
      "source": [
        "res_1 is true_val"
      ],
      "metadata": {
        "colab": {
          "base_uri": "https://localhost:8080/"
        },
        "id": "PwlIB0V5MaxF",
        "outputId": "788bde0d-0522-4b8e-bdb7-5a7801ede000"
      },
      "execution_count": null,
      "outputs": [
        {
          "output_type": "execute_result",
          "data": {
            "text/plain": [
              "False"
            ]
          },
          "metadata": {},
          "execution_count": 30
        }
      ]
    },
    {
      "cell_type": "code",
      "source": [
        "res_1 is not true_val"
      ],
      "metadata": {
        "colab": {
          "base_uri": "https://localhost:8080/"
        },
        "id": "uxZoKEQ8Me_1",
        "outputId": "a0345a30-d840-4df0-ed57-0c2259a5f2c1"
      },
      "execution_count": null,
      "outputs": [
        {
          "output_type": "execute_result",
          "data": {
            "text/plain": [
              "True"
            ]
          },
          "metadata": {},
          "execution_count": 31
        }
      ]
    },
    {
      "cell_type": "code",
      "source": [
        "p, q = True, False\n",
        "conj = p and q\n",
        "conj"
      ],
      "metadata": {
        "colab": {
          "base_uri": "https://localhost:8080/"
        },
        "id": "eYidyTc3MheS",
        "outputId": "abc8f363-c6e6-487e-82dc-dfb8d094c0c7"
      },
      "execution_count": null,
      "outputs": [
        {
          "output_type": "execute_result",
          "data": {
            "text/plain": [
              "False"
            ]
          },
          "metadata": {},
          "execution_count": 32
        }
      ]
    },
    {
      "cell_type": "code",
      "source": [
        "p, q = True, False\n",
        "disj = p or q\n",
        "disj"
      ],
      "metadata": {
        "colab": {
          "base_uri": "https://localhost:8080/"
        },
        "id": "aZT5NaJQNBn1",
        "outputId": "9d40da7c-0bff-4749-a258-e36e41db96dd"
      },
      "execution_count": null,
      "outputs": [
        {
          "output_type": "execute_result",
          "data": {
            "text/plain": [
              "True"
            ]
          },
          "metadata": {},
          "execution_count": 33
        }
      ]
    },
    {
      "cell_type": "code",
      "source": [
        "p, q = True, False\n",
        "nand = not (p and q)\n",
        "nand"
      ],
      "metadata": {
        "colab": {
          "base_uri": "https://localhost:8080/"
        },
        "id": "pyD-MvIWNWcP",
        "outputId": "3e5cbd31-1fc7-40f9-ad55-a98e0bb51e86"
      },
      "execution_count": null,
      "outputs": [
        {
          "output_type": "execute_result",
          "data": {
            "text/plain": [
              "True"
            ]
          },
          "metadata": {},
          "execution_count": 34
        }
      ]
    },
    {
      "cell_type": "code",
      "source": [
        "p, q = True, False\n",
        "xor = (not p and q) or (p and not q)\n",
        "xor"
      ],
      "metadata": {
        "colab": {
          "base_uri": "https://localhost:8080/"
        },
        "id": "j1wCqG0fOseZ",
        "outputId": "8365428b-d0d3-429b-e620-ec035c9d06ec"
      },
      "execution_count": null,
      "outputs": [
        {
          "output_type": "execute_result",
          "data": {
            "text/plain": [
              "True"
            ]
          },
          "metadata": {},
          "execution_count": 35
        }
      ]
    },
    {
      "cell_type": "markdown",
      "source": [
        "###I/O\n",
        "\n",
        "#### Input refers to any information or data sent to the computer by the user via the keyboard. The information that the computer provides to the user is referred to as output. This will help us to enter some program making it interactive to the user."
      ],
      "metadata": {
        "id": "N0K_OWyyPGZO"
      }
    },
    {
      "cell_type": "code",
      "source": [
        "print(\"Hello, People of da World\")"
      ],
      "metadata": {
        "colab": {
          "base_uri": "https://localhost:8080/"
        },
        "id": "be9cWNxZPH5o",
        "outputId": "2ab8ac03-1b1d-4d20-f9b7-69e67871ccc1"
      },
      "execution_count": null,
      "outputs": [
        {
          "output_type": "stream",
          "name": "stdout",
          "text": [
            "Hello, People of da World\n"
          ]
        }
      ]
    },
    {
      "cell_type": "code",
      "source": [
        "cnt = 1"
      ],
      "metadata": {
        "id": "FR6CPYYrPN99"
      },
      "execution_count": null,
      "outputs": []
    },
    {
      "cell_type": "code",
      "source": [
        "string = \"Hello, People of da World\"\n",
        "print(string, \", Current count is:\", cnt)\n",
        "cnt += 1"
      ],
      "metadata": {
        "colab": {
          "base_uri": "https://localhost:8080/"
        },
        "id": "4VfctSSMPZc3",
        "outputId": "9290afeb-66b5-4498-80c1-076e78e9c76c"
      },
      "execution_count": null,
      "outputs": [
        {
          "output_type": "stream",
          "name": "stdout",
          "text": [
            "Hello, People of da World , Current count is: 1\n"
          ]
        }
      ]
    },
    {
      "cell_type": "code",
      "source": [
        "print(f\"{string}, Current count is: {cnt}\")"
      ],
      "metadata": {
        "colab": {
          "base_uri": "https://localhost:8080/"
        },
        "id": "PCBQ77EiP1YY",
        "outputId": "9d6f4c32-a24d-447b-ee61-55477fe1ec5b"
      },
      "execution_count": null,
      "outputs": [
        {
          "output_type": "stream",
          "name": "stdout",
          "text": [
            "Hello, People of da World, Current count is: 2\n"
          ]
        }
      ]
    },
    {
      "cell_type": "code",
      "source": [
        "sem_grade = 90\n",
        "name = \"yumi\"\n",
        "print(\"Hello {}, your semestral grade is: {}\".format(name, sem_grade))"
      ],
      "metadata": {
        "colab": {
          "base_uri": "https://localhost:8080/"
        },
        "id": "DO5rV510QMT3",
        "outputId": "97c84cfb-bdaf-4f19-f0c6-25341420e6b9"
      },
      "execution_count": null,
      "outputs": [
        {
          "output_type": "stream",
          "name": "stdout",
          "text": [
            "Hello yumi, your semestral grade is: 90\n"
          ]
        }
      ]
    },
    {
      "cell_type": "code",
      "source": [
        "w_pg, w_mg, w_fg = 0.3, 0.3, 0.4\n",
        "print(\"The weights of your semestral grade are:\\\n",
        "\\n\\t{:.2%} for Prelims\\\n",
        "\\n\\t{:.2%} for Midterms, and\\\n",
        "\\n\\t{:.2%} for Finals.\".format(w_pg, w_mg, w_fg))"
      ],
      "metadata": {
        "id": "oY3tBFuCQ48x",
        "colab": {
          "base_uri": "https://localhost:8080/"
        },
        "outputId": "94cf82d8-9291-49ce-a6c9-e26bb2483e27"
      },
      "execution_count": null,
      "outputs": [
        {
          "output_type": "stream",
          "name": "stdout",
          "text": [
            "The weights of your semestral grade are:\n",
            "\t30.00% for Prelims\n",
            "\t30.00% for Midterms, and\n",
            "\t40.00% for Finals.\n"
          ]
        }
      ]
    },
    {
      "cell_type": "code",
      "source": [
        "x = input(\"enter a number: \")\n",
        "x"
      ],
      "metadata": {
        "colab": {
          "base_uri": "https://localhost:8080/",
          "height": 53
        },
        "id": "2klXQK0-AWVi",
        "outputId": "80e1feae-09aa-4a04-db33-7f8d53aefe5a"
      },
      "execution_count": null,
      "outputs": [
        {
          "name": "stdout",
          "output_type": "stream",
          "text": [
            "enter a number: 90\n"
          ]
        },
        {
          "output_type": "execute_result",
          "data": {
            "application/vnd.google.colaboratory.intrinsic+json": {
              "type": "string"
            },
            "text/plain": [
              "'90'"
            ]
          },
          "metadata": {},
          "execution_count": 42
        }
      ]
    },
    {
      "cell_type": "code",
      "source": [
        "name  = input(\"Kimi no nawa: \")\n",
        "pg = input(\"Enter prelim grade: \")\n",
        "mg = input(\"Enter midterm grade: \")\n",
        "fg = input(\"Enter finals grade: \")\n",
        "sem_grade = None\n",
        "print(\"Hello {}, your semestral grade is: {}\".format(name, sem_grade))"
      ],
      "metadata": {
        "colab": {
          "base_uri": "https://localhost:8080/"
        },
        "id": "Ml9vKja5Anfr",
        "outputId": "64e1c9ec-c630-4aa7-8591-b919872025bb"
      },
      "execution_count": null,
      "outputs": [
        {
          "output_type": "stream",
          "name": "stdout",
          "text": [
            "Kimi no nawa: Yume\n",
            "Enter prelim grade: 90\n",
            "Enter midterm grade: 98\n",
            "Enter finals grade: 97\n",
            "Hello Yume, your semestral grade is: None\n"
          ]
        }
      ]
    },
    {
      "cell_type": "markdown",
      "source": [
        "#Looping Statements\n",
        "\n",
        "#### A loop statement, according to Tutorials Point, lets us to execute a statement or a series of statements many times. To meet looping requirements, the Python programming language supports the following types of loops."
      ],
      "metadata": {
        "id": "w4O-m8c7DYcP"
      }
    },
    {
      "cell_type": "markdown",
      "source": [
        "##While"
      ],
      "metadata": {
        "id": "0f5lTy1dDnOu"
      }
    },
    {
      "cell_type": "code",
      "source": [
        "## while loops\n",
        "i, j = 0, 10\n",
        "while (i<=j):\n",
        "  print (f\"{i}\\t|\\t{j}\")\n",
        "  i+=1"
      ],
      "metadata": {
        "colab": {
          "base_uri": "https://localhost:8080/"
        },
        "id": "THOD0X6uDpAe",
        "outputId": "d5db8870-93f8-4ff1-e879-606393f7fdcf"
      },
      "execution_count": null,
      "outputs": [
        {
          "output_type": "stream",
          "name": "stdout",
          "text": [
            "0\t|\t10\n",
            "1\t|\t10\n",
            "2\t|\t10\n",
            "3\t|\t10\n",
            "4\t|\t10\n",
            "5\t|\t10\n",
            "6\t|\t10\n",
            "7\t|\t10\n",
            "8\t|\t10\n",
            "9\t|\t10\n",
            "10\t|\t10\n"
          ]
        }
      ]
    },
    {
      "cell_type": "markdown",
      "source": [
        "###For"
      ],
      "metadata": {
        "id": "BzUtlHJQFfZl"
      }
    },
    {
      "cell_type": "code",
      "source": [
        "# for(int i=0; i<10; i++){\n",
        "    # printf(i)\n",
        "# }\n",
        "\n",
        "i=0\n",
        "for i in range(10):\n",
        "  print(i)"
      ],
      "metadata": {
        "colab": {
          "base_uri": "https://localhost:8080/"
        },
        "id": "_mSonVWFFg6e",
        "outputId": "89561aad-b473-4804-e156-a61570046164"
      },
      "execution_count": null,
      "outputs": [
        {
          "output_type": "stream",
          "name": "stdout",
          "text": [
            "0\n",
            "1\n",
            "2\n",
            "3\n",
            "4\n",
            "5\n",
            "6\n",
            "7\n",
            "8\n",
            "9\n"
          ]
        }
      ]
    },
    {
      "cell_type": "code",
      "source": [
        "playlist = [\"Ocean Eyes\", \"Home\", \"Little Things\"]\n",
        "print('Now playing:\\n')\n",
        "for song in playlist:\n",
        "  print (song)"
      ],
      "metadata": {
        "colab": {
          "base_uri": "https://localhost:8080/"
        },
        "id": "bP4sP9sCHHVU",
        "outputId": "06244ada-2709-4938-c1ff-ebe09dc927c9"
      },
      "execution_count": null,
      "outputs": [
        {
          "output_type": "stream",
          "name": "stdout",
          "text": [
            "Now playing:\n",
            "\n",
            "Ocean Eyes\n",
            "Home\n",
            "Little Things\n"
          ]
        }
      ]
    },
    {
      "cell_type": "markdown",
      "source": [
        "#Flow Control\n",
        "\n",
        "#### The control flow of a program is the sequence in which its code is executed. Conditional statements and function calls determine the control flow of a Python program."
      ],
      "metadata": {
        "id": "LlmE4Z9LHbgR"
      }
    },
    {
      "cell_type": "markdown",
      "source": [
        "##Condition Statements"
      ],
      "metadata": {
        "id": "Dl2TeDZAHfEU"
      }
    },
    {
      "cell_type": "code",
      "source": [
        "numeral1, numeral2 = 12, 14\n",
        "if(numeral1 == numeral2):\n",
        "  print(\"Wowerz\")\n",
        "elif(numeral1>numeral2):\n",
        "    print(\"Luh\")\n",
        "else:\n",
        "    print(\"Edi wow\")"
      ],
      "metadata": {
        "colab": {
          "base_uri": "https://localhost:8080/"
        },
        "id": "WcLjxssxIGTW",
        "outputId": "910ac3f9-575b-4e12-b8f6-23d61a5fbe9a"
      },
      "execution_count": null,
      "outputs": [
        {
          "output_type": "stream",
          "name": "stdout",
          "text": [
            "Edi wow\n"
          ]
        }
      ]
    },
    {
      "cell_type": "markdown",
      "source": [
        "##Functions"
      ],
      "metadata": {
        "id": "w0vDvbYwJUyR"
      }
    },
    {
      "cell_type": "code",
      "source": [
        "# void DeleteUser(int userid){\n",
        "#    delete(userid);\n",
        "# }\n",
        "def delete_user (userid):\n",
        "  print(\"Successfully deleted user: {}\".format(userid))\n",
        "\n",
        "def delete_all_users ():\n",
        "  print(\"Successfully deleted all users\")"
      ],
      "metadata": {
        "id": "tq2XNHGFJXfk"
      },
      "execution_count": null,
      "outputs": []
    },
    {
      "cell_type": "code",
      "source": [
        "userid = 0\n",
        "delete_user(0)\n",
        "delete_all_users()"
      ],
      "metadata": {
        "colab": {
          "base_uri": "https://localhost:8080/"
        },
        "id": "6in7vZNVKT5J",
        "outputId": "c7aa98cf-c71d-47c5-976c-b6e392864861"
      },
      "execution_count": null,
      "outputs": [
        {
          "output_type": "stream",
          "name": "stdout",
          "text": [
            "Successfully deleted user: 0\n",
            "Successfully deleted all users\n"
          ]
        }
      ]
    },
    {
      "cell_type": "code",
      "source": [
        "def add(addend1, addend2):\n",
        "  print(\"lam ko yan dzai, ang sagot ay\")\n",
        "  return addend1 + addend2\n",
        "\n",
        "def power_of_base2(exponent):\n",
        "  return 2**exponent\n",
        "\n",
        "addend1 = 2\n",
        "addend2 = 4\n",
        "\n",
        "exponent = 6\n",
        "\n",
        "#add(addend1, addend2)\n",
        "power_of_base2(exponent)"
      ],
      "metadata": {
        "colab": {
          "base_uri": "https://localhost:8080/"
        },
        "id": "wTDax6HIMV7U",
        "outputId": "8695ecd0-1315-473a-c6cc-947d7e9dd520"
      },
      "execution_count": null,
      "outputs": [
        {
          "output_type": "execute_result",
          "data": {
            "text/plain": [
              "64"
            ]
          },
          "metadata": {},
          "execution_count": 50
        }
      ]
    },
    {
      "cell_type": "code",
      "source": [
        "add(addend1, addend2)"
      ],
      "metadata": {
        "colab": {
          "base_uri": "https://localhost:8080/"
        },
        "id": "cdKGg94VN6w9",
        "outputId": "7ff9503a-f517-4227-9f7f-d5a774bdf1e0"
      },
      "execution_count": null,
      "outputs": [
        {
          "output_type": "stream",
          "name": "stdout",
          "text": [
            "lam ko yan dzai, ang sagot ay\n"
          ]
        },
        {
          "output_type": "execute_result",
          "data": {
            "text/plain": [
              "6"
            ]
          },
          "metadata": {},
          "execution_count": 51
        }
      ]
    },
    {
      "cell_type": "markdown",
      "source": [
        "#Activity: Grade Calculator\n",
        "\n",
        "Create a grade calculator that computes for the semestral grade of a course. Students could type their names, the name of the course, then their prelim, midterm and final grade.\n",
        "The program should print the semestral grade in 2 decimal points and should display the following emojis depending on the situation:\n",
        "happy - when grade is greater than 70.00. \n",
        "laughing - when grade is exactly 70.00.\n",
        "sad - when grade is below 70.00"
      ],
      "metadata": {
        "id": "6oPu0q5iv11c"
      }
    },
    {
      "cell_type": "code",
      "source": [
        "name = input(\"Student's Name: \")\n",
        "sc = input(\"Student's Course: \")\n",
        "pg = float(input(\"Enter prelim grade: \"))\n",
        "mg = float(input(\"Enter midterm grade: \"))\n",
        "fg = float(input(\"Enter final grade: \"))\n",
        "\n",
        "avg_pg = (pg*0.30)\n",
        "avg_mg = (mg*0.30)\n",
        "avg_fg = (fg*0.40)\n",
        "avg = (avg_pg+avg_mg+avg_fg)\n",
        "\n",
        "avg = \"{:.2f}\".format(avg)\n",
        "\n",
        "if float(avg)>70.00:\n",
        "  print(\"Hello {}, your semestral grade as a {} student is: {} \\U0001F600\".format(name, sc, avg))\n",
        "elif float(avg)==70.00:\n",
        "  print(\"Hello {}, your semestral grade as a {} student is: {} \\U0001F606\".format(name, sc, avg))\n",
        "else:\n",
        "  print(\"Hello {}, your semestral grade as a {} student is: {} \\U0001F62D\".format(name, sc, avg))"
      ],
      "metadata": {
        "colab": {
          "base_uri": "https://localhost:8080/"
        },
        "id": "Xx1ZeZa4wq5w",
        "outputId": "9ac3f152-77dd-43b4-cff8-9f6fb80f195d"
      },
      "execution_count": null,
      "outputs": [
        {
          "output_type": "stream",
          "name": "stdout",
          "text": [
            "Student's Name: Ayume\n",
            "Student's Course: ChE\n",
            "Enter prelim grade: 90\n",
            "Enter midterm grade: 93\n",
            "Enter final grade: 95\n",
            "Hello Ayume, your semestral grade as a ChE student is: 92.90 😀\n"
          ]
        }
      ]
    },
    {
      "cell_type": "markdown",
      "source": [
        "##References\n",
        "\n",
        "#### Singh, C. (n.d.). Python Variables with Examples. Retrieved February 21, 2022, from https://beginnersbook.com/2019/03/python-variables/\n",
        "\n",
        "#### Programiz. (n.d.). Python Operators. Retrieved February 21, 2022, from https://www.programiz.com/python-programming/operators#:~:text=Operators%20are%20special%20symbols%20in,the%20output%20of%20the%20operation.\n",
        "\n",
        "#### Tutorials Point. (n.d.). Python - Loops. Retrieved February 21, 2022 from https://www.tutorialspoint.com/python/python_loops.htm\n",
        "\n",
        "#### Koushik, B. (n.d.). What are Control Flow Statements in Python?. Retrieved February 21, 2022 from https://www.educative.io/edpresso/what-are-control-flow-statements-in-python\n",
        "\n",
        "#### Chercher Tech. (n.d.). Python Input and Output Statements. Retrieved February 21, 2022 fromhttps://chercher.tech/python-programming/python-inputs-and-outputs\n",
        "\n",
        "#### Geeks for Geeks. (2021, Oct. 01). Python Data Types. Retrieved February 21, 2022 from https://www.geeksforgeeks.org/python-data-types/\n"
      ],
      "metadata": {
        "id": "lkkAUj_DOQDM"
      }
    }
  ]
}